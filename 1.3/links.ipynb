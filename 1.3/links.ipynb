{
 "cells": [
  {
   "cell_type": "markdown",
   "id": "a720f4cd",
   "metadata": {},
   "source": [
    "[Зарецька](https://github.com/ViktoriaZaretska/miaz_2025_practicals.git)"
   ]
  }
 ],
 "metadata": {
  "kernelspec": {
   "display_name": "Python 3",
   "language": "python",
   "name": "python3"
  },
  "language_info": {
   "name": "python",
   "version": "3.11.9"
  }
 },
 "nbformat": 4,
 "nbformat_minor": 5
}
