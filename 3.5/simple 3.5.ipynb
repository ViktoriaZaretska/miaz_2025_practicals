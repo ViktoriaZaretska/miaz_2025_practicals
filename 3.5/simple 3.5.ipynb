{
 "cells": [
  {
   "cell_type": "code",
   "execution_count": 2,
   "id": "78bb4107",
   "metadata": {},
   "outputs": [],
   "source": [
    "import pandas as pd"
   ]
  },
  {
   "cell_type": "code",
   "execution_count": 3,
   "id": "fdaef329",
   "metadata": {},
   "outputs": [],
   "source": [
    "df = pd.read_csv('GlobalFirePower.csv')"
   ]
  },
  {
   "cell_type": "code",
   "execution_count": 4,
   "id": "52b0cdff",
   "metadata": {},
   "outputs": [
    {
     "name": "stdout",
     "output_type": "stream",
     "text": [
      "         Country ISO3  Rank  Total Population  Manpower Available  \\\n",
      "0  United States  USA     1         323995528           145215000   \n",
      "1         Russia  RUS     2         142355415            70000000   \n",
      "2          China  CHN     3        1373541278           750000000   \n",
      "3          India  IND     4        1266883598           616000000   \n",
      "4         France  FRA     5          66836154            30000000   \n",
      "\n",
      "   Fit-for-Service  Reaching Military Age  Total Military Personnel  \\\n",
      "0        120025000                4220000                   2363675   \n",
      "1         47000000                1355000                   3371027   \n",
      "2        619000000               19550000                   3712500   \n",
      "3        489600000               22900000                   4207250   \n",
      "4         23750000                 775000                    387635   \n",
      "\n",
      "   Active Personnel  Reserve Personnel  ...  Railway Coverage (km)  \\\n",
      "0           1373650             990025  ...                 224792   \n",
      "1            798527            2572500  ...                  87157   \n",
      "2           2260000            1452500  ...                  86000   \n",
      "3           1362500            2844750  ...                  63974   \n",
      "4            204000             183635  ...                  29640   \n",
      "\n",
      "   Serivecable Airports  Defense Budget  External Debt  \\\n",
      "0                 13513          587800       17910000   \n",
      "1                  1218           44600         514800   \n",
      "2                   507          161700         983500   \n",
      "3                   346           51000         507000   \n",
      "4                   464           35000        5360000   \n",
      "\n",
      "   Foreign Exchange / Gold  Purchasing Power Parity  Square Land Area (km)  \\\n",
      "0                   117600                 18560000                9826675   \n",
      "1                   365500                  3745000               17098242   \n",
      "2                  3092000                 21270000                9596961   \n",
      "3                   359100                  8721000                3287263   \n",
      "4                   138200                  2737000                 643801   \n",
      "\n",
      "   Coastline (km)  Shared Borders (km)  Waterways (km)  \n",
      "0           19924                12048           41009  \n",
      "1           37653                22408          102000  \n",
      "2           14500                22457          110000  \n",
      "3            7000                13888           14500  \n",
      "4            4853                 4072            8501  \n",
      "\n",
      "[5 rows x 47 columns]\n"
     ]
    }
   ],
   "source": [
    "print(df.head())"
   ]
  },
  {
   "cell_type": "code",
   "execution_count": 6,
   "id": "350f176b",
   "metadata": {},
   "outputs": [
    {
     "name": "stdout",
     "output_type": "stream",
     "text": [
      "<class 'pandas.core.frame.DataFrame'>\n",
      "RangeIndex: 133 entries, 0 to 132\n",
      "Data columns (total 47 columns):\n",
      " #   Column                     Non-Null Count  Dtype \n",
      "---  ------                     --------------  ----- \n",
      " 0   Country                    133 non-null    object\n",
      " 1   ISO3                       133 non-null    object\n",
      " 2   Rank                       133 non-null    int64 \n",
      " 3   Total Population           133 non-null    int64 \n",
      " 4   Manpower Available         133 non-null    int64 \n",
      " 5   Fit-for-Service            133 non-null    int64 \n",
      " 6   Reaching Military Age      133 non-null    int64 \n",
      " 7   Total Military Personnel   133 non-null    int64 \n",
      " 8   Active Personnel           133 non-null    int64 \n",
      " 9   Reserve Personnel          133 non-null    int64 \n",
      " 10  Total Aircraft Strength    133 non-null    int64 \n",
      " 11  Fighter Aircraft           133 non-null    int64 \n",
      " 12  Attack Aircraft            133 non-null    int64 \n",
      " 13  Transport Aircraft         133 non-null    int64 \n",
      " 14  Trainer Aircraft           133 non-null    int64 \n",
      " 15  Total Helicopter Strength  133 non-null    int64 \n",
      " 16  Attack Helicopters         133 non-null    int64 \n",
      " 17  Combat Tanks               133 non-null    int64 \n",
      " 18  Armored Fighting Vehicles  133 non-null    int64 \n",
      " 19  Self-Propelled Artillery   133 non-null    int64 \n",
      " 20  Towed Artillery            133 non-null    int64 \n",
      " 21  Rocket Projectors          133 non-null    int64 \n",
      " 22  Total Naval Assets         133 non-null    int64 \n",
      " 23  Aircraft Carriers          133 non-null    int64 \n",
      " 24  Frigates                   133 non-null    int64 \n",
      " 25  Destroyers                 133 non-null    int64 \n",
      " 26  Corvettes                  133 non-null    int64 \n",
      " 27  Submarines                 133 non-null    int64 \n",
      " 28  Patrol Craft               133 non-null    int64 \n",
      " 29  Mine Warfare Vessels       133 non-null    int64 \n",
      " 30  Production (bbl/dy)        133 non-null    int64 \n",
      " 31  Consumption (bbl/dy)       133 non-null    int64 \n",
      " 32  Proven Reserves (bbl)      133 non-null    int64 \n",
      " 33  Labor Force                133 non-null    int64 \n",
      " 34  Merchant Marine Strength   133 non-null    int64 \n",
      " 35  Major Ports / Terminals    133 non-null    int64 \n",
      " 36  Roadway Coverage (km)      133 non-null    int64 \n",
      " 37  Railway Coverage (km)      133 non-null    int64 \n",
      " 38  Serivecable Airports       133 non-null    int64 \n",
      " 39  Defense Budget             133 non-null    int64 \n",
      " 40  External Debt              133 non-null    int64 \n",
      " 41  Foreign Exchange / Gold    133 non-null    int64 \n",
      " 42  Purchasing Power Parity    133 non-null    int64 \n",
      " 43  Square Land Area (km)      133 non-null    int64 \n",
      " 44  Coastline (km)             133 non-null    object\n",
      " 45  Shared Borders (km)        133 non-null    int64 \n",
      " 46  Waterways (km)             133 non-null    object\n",
      "dtypes: int64(43), object(4)\n",
      "memory usage: 49.0+ KB\n",
      "None\n"
     ]
    }
   ],
   "source": [
    "print(df.info())"
   ]
  },
  {
   "cell_type": "code",
   "execution_count": 7,
   "id": "ea30be43",
   "metadata": {},
   "outputs": [
    {
     "name": "stdout",
     "output_type": "stream",
     "text": [
      "Country                      0\n",
      "ISO3                         0\n",
      "Rank                         0\n",
      "Total Population             0\n",
      "Manpower Available           0\n",
      "Fit-for-Service              0\n",
      "Reaching Military Age        0\n",
      "Total Military Personnel     0\n",
      "Active Personnel             0\n",
      "Reserve Personnel            0\n",
      "Total Aircraft Strength      0\n",
      "Fighter Aircraft             0\n",
      "Attack Aircraft              0\n",
      "Transport Aircraft           0\n",
      "Trainer Aircraft             0\n",
      "Total Helicopter Strength    0\n",
      "Attack Helicopters           0\n",
      "Combat Tanks                 0\n",
      "Armored Fighting Vehicles    0\n",
      "Self-Propelled Artillery     0\n",
      "Towed Artillery              0\n",
      "Rocket Projectors            0\n",
      "Total Naval Assets           0\n",
      "Aircraft Carriers            0\n",
      "Frigates                     0\n",
      "Destroyers                   0\n",
      "Corvettes                    0\n",
      "Submarines                   0\n",
      "Patrol Craft                 0\n",
      "Mine Warfare Vessels         0\n",
      "Production (bbl/dy)          0\n",
      "Consumption (bbl/dy)         0\n",
      "Proven Reserves (bbl)        0\n",
      "Labor Force                  0\n",
      "Merchant Marine Strength     0\n",
      "Major Ports / Terminals      0\n",
      "Roadway Coverage (km)        0\n",
      "Railway Coverage (km)        0\n",
      "Serivecable Airports         0\n",
      "Defense Budget               0\n",
      "External Debt                0\n",
      "Foreign Exchange / Gold      0\n",
      "Purchasing Power Parity      0\n",
      "Square Land Area (km)        0\n",
      "Coastline (km)               0\n",
      "Shared Borders (km)          0\n",
      "Waterways (km)               0\n",
      "dtype: int64\n"
     ]
    }
   ],
   "source": [
    "print(df.isnull().sum())"
   ]
  },
  {
   "cell_type": "code",
   "execution_count": 8,
   "id": "c06fb884",
   "metadata": {},
   "outputs": [],
   "source": [
    "df.drop_duplicates(inplace=True)"
   ]
  },
  {
   "cell_type": "code",
   "execution_count": null,
   "id": "704d6d89",
   "metadata": {},
   "outputs": [],
   "source": []
  }
 ],
 "metadata": {
  "kernelspec": {
   "display_name": "Python 3",
   "language": "python",
   "name": "python3"
  },
  "language_info": {
   "codemirror_mode": {
    "name": "ipython",
    "version": 3
   },
   "file_extension": ".py",
   "mimetype": "text/x-python",
   "name": "python",
   "nbconvert_exporter": "python",
   "pygments_lexer": "ipython3",
   "version": "3.11.9"
  }
 },
 "nbformat": 4,
 "nbformat_minor": 5
}
